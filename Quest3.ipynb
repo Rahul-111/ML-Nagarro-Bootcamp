{
 "cells": [
  {
   "cell_type": "code",
   "execution_count": 1,
   "metadata": {},
   "outputs": [],
   "source": [
    "import pandas as pd\n",
    "import numpy as np\n",
    "import matplotlib.pyplot as plt\n",
    "%matplotlib inline"
   ]
  },
  {
   "cell_type": "code",
   "execution_count": 2,
   "metadata": {},
   "outputs": [
    {
     "name": "stderr",
     "output_type": "stream",
     "text": [
      "C:\\Users\\Rahul\\Anaconda3\\lib\\site-packages\\IPython\\core\\interactiveshell.py:3049: DtypeWarning: Columns (7) have mixed types. Specify dtype option on import or set low_memory=False.\n",
      "  interactivity=interactivity, compiler=compiler, result=result)\n"
     ]
    }
   ],
   "source": [
    "df=pd.read_csv('data.csv')"
   ]
  },
  {
   "cell_type": "code",
   "execution_count": 4,
   "metadata": {},
   "outputs": [
    {
     "data": {
      "text/html": [
       "<div>\n",
       "<style scoped>\n",
       "    .dataframe tbody tr th:only-of-type {\n",
       "        vertical-align: middle;\n",
       "    }\n",
       "\n",
       "    .dataframe tbody tr th {\n",
       "        vertical-align: top;\n",
       "    }\n",
       "\n",
       "    .dataframe thead th {\n",
       "        text-align: right;\n",
       "    }\n",
       "</style>\n",
       "<table border=\"1\" class=\"dataframe\">\n",
       "  <thead>\n",
       "    <tr style=\"text-align: right;\">\n",
       "      <th></th>\n",
       "      <th>report_date</th>\n",
       "      <th>location</th>\n",
       "      <th>location_type</th>\n",
       "      <th>data_field</th>\n",
       "      <th>data_field_code</th>\n",
       "      <th>time_period</th>\n",
       "      <th>time_period_type</th>\n",
       "      <th>value</th>\n",
       "      <th>unit</th>\n",
       "    </tr>\n",
       "  </thead>\n",
       "  <tbody>\n",
       "    <tr>\n",
       "      <th>0</th>\n",
       "      <td>2016-03-19</td>\n",
       "      <td>Argentina-Buenos_Aires</td>\n",
       "      <td>province</td>\n",
       "      <td>cumulative_confirmed_local_cases</td>\n",
       "      <td>AR0001</td>\n",
       "      <td>NaN</td>\n",
       "      <td>NaN</td>\n",
       "      <td>0</td>\n",
       "      <td>cases</td>\n",
       "    </tr>\n",
       "    <tr>\n",
       "      <th>1</th>\n",
       "      <td>2016-03-19</td>\n",
       "      <td>Argentina-Buenos_Aires</td>\n",
       "      <td>province</td>\n",
       "      <td>cumulative_probable_local_cases</td>\n",
       "      <td>AR0002</td>\n",
       "      <td>NaN</td>\n",
       "      <td>NaN</td>\n",
       "      <td>0</td>\n",
       "      <td>cases</td>\n",
       "    </tr>\n",
       "    <tr>\n",
       "      <th>2</th>\n",
       "      <td>2016-03-19</td>\n",
       "      <td>Argentina-Buenos_Aires</td>\n",
       "      <td>province</td>\n",
       "      <td>cumulative_confirmed_imported_cases</td>\n",
       "      <td>AR0003</td>\n",
       "      <td>NaN</td>\n",
       "      <td>NaN</td>\n",
       "      <td>2</td>\n",
       "      <td>cases</td>\n",
       "    </tr>\n",
       "    <tr>\n",
       "      <th>3</th>\n",
       "      <td>2016-03-19</td>\n",
       "      <td>Argentina-Buenos_Aires</td>\n",
       "      <td>province</td>\n",
       "      <td>cumulative_probable_imported_cases</td>\n",
       "      <td>AR0004</td>\n",
       "      <td>NaN</td>\n",
       "      <td>NaN</td>\n",
       "      <td>1</td>\n",
       "      <td>cases</td>\n",
       "    </tr>\n",
       "    <tr>\n",
       "      <th>4</th>\n",
       "      <td>2016-03-19</td>\n",
       "      <td>Argentina-Buenos_Aires</td>\n",
       "      <td>province</td>\n",
       "      <td>cumulative_cases_under_study</td>\n",
       "      <td>AR0005</td>\n",
       "      <td>NaN</td>\n",
       "      <td>NaN</td>\n",
       "      <td>127</td>\n",
       "      <td>cases</td>\n",
       "    </tr>\n",
       "    <tr>\n",
       "      <th>5</th>\n",
       "      <td>2016-03-19</td>\n",
       "      <td>Argentina-Buenos_Aires</td>\n",
       "      <td>province</td>\n",
       "      <td>cumulative_cases_discarded</td>\n",
       "      <td>AR0006</td>\n",
       "      <td>NaN</td>\n",
       "      <td>NaN</td>\n",
       "      <td>0</td>\n",
       "      <td>cases</td>\n",
       "    </tr>\n",
       "    <tr>\n",
       "      <th>6</th>\n",
       "      <td>2016-03-19</td>\n",
       "      <td>Argentina-CABA</td>\n",
       "      <td>province</td>\n",
       "      <td>cumulative_confirmed_local_cases</td>\n",
       "      <td>AR0001</td>\n",
       "      <td>NaN</td>\n",
       "      <td>NaN</td>\n",
       "      <td>0</td>\n",
       "      <td>cases</td>\n",
       "    </tr>\n",
       "    <tr>\n",
       "      <th>7</th>\n",
       "      <td>2016-03-19</td>\n",
       "      <td>Argentina-CABA</td>\n",
       "      <td>province</td>\n",
       "      <td>cumulative_probable_local_cases</td>\n",
       "      <td>AR0002</td>\n",
       "      <td>NaN</td>\n",
       "      <td>NaN</td>\n",
       "      <td>0</td>\n",
       "      <td>cases</td>\n",
       "    </tr>\n",
       "    <tr>\n",
       "      <th>8</th>\n",
       "      <td>2016-03-19</td>\n",
       "      <td>Argentina-CABA</td>\n",
       "      <td>province</td>\n",
       "      <td>cumulative_confirmed_imported_cases</td>\n",
       "      <td>AR0003</td>\n",
       "      <td>NaN</td>\n",
       "      <td>NaN</td>\n",
       "      <td>9</td>\n",
       "      <td>cases</td>\n",
       "    </tr>\n",
       "    <tr>\n",
       "      <th>9</th>\n",
       "      <td>2016-03-19</td>\n",
       "      <td>Argentina-CABA</td>\n",
       "      <td>province</td>\n",
       "      <td>cumulative_probable_imported_cases</td>\n",
       "      <td>AR0004</td>\n",
       "      <td>NaN</td>\n",
       "      <td>NaN</td>\n",
       "      <td>0</td>\n",
       "      <td>cases</td>\n",
       "    </tr>\n",
       "    <tr>\n",
       "      <th>10</th>\n",
       "      <td>2016-03-19</td>\n",
       "      <td>Argentina-CABA</td>\n",
       "      <td>province</td>\n",
       "      <td>cumulative_cases_under_study</td>\n",
       "      <td>AR0005</td>\n",
       "      <td>NaN</td>\n",
       "      <td>NaN</td>\n",
       "      <td>68</td>\n",
       "      <td>cases</td>\n",
       "    </tr>\n",
       "    <tr>\n",
       "      <th>11</th>\n",
       "      <td>2016-03-19</td>\n",
       "      <td>Argentina-CABA</td>\n",
       "      <td>province</td>\n",
       "      <td>cumulative_cases_discarded</td>\n",
       "      <td>AR0006</td>\n",
       "      <td>NaN</td>\n",
       "      <td>NaN</td>\n",
       "      <td>1</td>\n",
       "      <td>cases</td>\n",
       "    </tr>\n",
       "    <tr>\n",
       "      <th>12</th>\n",
       "      <td>2016-03-19</td>\n",
       "      <td>Argentina-Catamarca</td>\n",
       "      <td>province</td>\n",
       "      <td>cumulative_confirmed_local_cases</td>\n",
       "      <td>AR0001</td>\n",
       "      <td>NaN</td>\n",
       "      <td>NaN</td>\n",
       "      <td>0</td>\n",
       "      <td>cases</td>\n",
       "    </tr>\n",
       "    <tr>\n",
       "      <th>13</th>\n",
       "      <td>2016-03-19</td>\n",
       "      <td>Argentina-Catamarca</td>\n",
       "      <td>province</td>\n",
       "      <td>cumulative_probable_local_cases</td>\n",
       "      <td>AR0002</td>\n",
       "      <td>NaN</td>\n",
       "      <td>NaN</td>\n",
       "      <td>0</td>\n",
       "      <td>cases</td>\n",
       "    </tr>\n",
       "    <tr>\n",
       "      <th>14</th>\n",
       "      <td>2016-03-19</td>\n",
       "      <td>Argentina-Catamarca</td>\n",
       "      <td>province</td>\n",
       "      <td>cumulative_confirmed_imported_cases</td>\n",
       "      <td>AR0003</td>\n",
       "      <td>NaN</td>\n",
       "      <td>NaN</td>\n",
       "      <td>0</td>\n",
       "      <td>cases</td>\n",
       "    </tr>\n",
       "    <tr>\n",
       "      <th>15</th>\n",
       "      <td>2016-03-19</td>\n",
       "      <td>Argentina-Catamarca</td>\n",
       "      <td>province</td>\n",
       "      <td>cumulative_probable_imported_cases</td>\n",
       "      <td>AR0004</td>\n",
       "      <td>NaN</td>\n",
       "      <td>NaN</td>\n",
       "      <td>0</td>\n",
       "      <td>cases</td>\n",
       "    </tr>\n",
       "    <tr>\n",
       "      <th>16</th>\n",
       "      <td>2016-03-19</td>\n",
       "      <td>Argentina-Catamarca</td>\n",
       "      <td>province</td>\n",
       "      <td>cumulative_cases_under_study</td>\n",
       "      <td>AR0005</td>\n",
       "      <td>NaN</td>\n",
       "      <td>NaN</td>\n",
       "      <td>14</td>\n",
       "      <td>cases</td>\n",
       "    </tr>\n",
       "    <tr>\n",
       "      <th>17</th>\n",
       "      <td>2016-03-19</td>\n",
       "      <td>Argentina-Catamarca</td>\n",
       "      <td>province</td>\n",
       "      <td>cumulative_cases_discarded</td>\n",
       "      <td>AR0006</td>\n",
       "      <td>NaN</td>\n",
       "      <td>NaN</td>\n",
       "      <td>0</td>\n",
       "      <td>cases</td>\n",
       "    </tr>\n",
       "    <tr>\n",
       "      <th>18</th>\n",
       "      <td>2016-03-19</td>\n",
       "      <td>Argentina-Chaco</td>\n",
       "      <td>province</td>\n",
       "      <td>cumulative_confirmed_local_cases</td>\n",
       "      <td>AR0001</td>\n",
       "      <td>NaN</td>\n",
       "      <td>NaN</td>\n",
       "      <td>0</td>\n",
       "      <td>cases</td>\n",
       "    </tr>\n",
       "    <tr>\n",
       "      <th>19</th>\n",
       "      <td>2016-03-19</td>\n",
       "      <td>Argentina-Chaco</td>\n",
       "      <td>province</td>\n",
       "      <td>cumulative_probable_local_cases</td>\n",
       "      <td>AR0002</td>\n",
       "      <td>NaN</td>\n",
       "      <td>NaN</td>\n",
       "      <td>0</td>\n",
       "      <td>cases</td>\n",
       "    </tr>\n",
       "  </tbody>\n",
       "</table>\n",
       "</div>"
      ],
      "text/plain": [
       "   report_date                location location_type  \\\n",
       "0   2016-03-19  Argentina-Buenos_Aires      province   \n",
       "1   2016-03-19  Argentina-Buenos_Aires      province   \n",
       "2   2016-03-19  Argentina-Buenos_Aires      province   \n",
       "3   2016-03-19  Argentina-Buenos_Aires      province   \n",
       "4   2016-03-19  Argentina-Buenos_Aires      province   \n",
       "5   2016-03-19  Argentina-Buenos_Aires      province   \n",
       "6   2016-03-19          Argentina-CABA      province   \n",
       "7   2016-03-19          Argentina-CABA      province   \n",
       "8   2016-03-19          Argentina-CABA      province   \n",
       "9   2016-03-19          Argentina-CABA      province   \n",
       "10  2016-03-19          Argentina-CABA      province   \n",
       "11  2016-03-19          Argentina-CABA      province   \n",
       "12  2016-03-19     Argentina-Catamarca      province   \n",
       "13  2016-03-19     Argentina-Catamarca      province   \n",
       "14  2016-03-19     Argentina-Catamarca      province   \n",
       "15  2016-03-19     Argentina-Catamarca      province   \n",
       "16  2016-03-19     Argentina-Catamarca      province   \n",
       "17  2016-03-19     Argentina-Catamarca      province   \n",
       "18  2016-03-19         Argentina-Chaco      province   \n",
       "19  2016-03-19         Argentina-Chaco      province   \n",
       "\n",
       "                             data_field data_field_code  time_period  \\\n",
       "0      cumulative_confirmed_local_cases          AR0001          NaN   \n",
       "1       cumulative_probable_local_cases          AR0002          NaN   \n",
       "2   cumulative_confirmed_imported_cases          AR0003          NaN   \n",
       "3    cumulative_probable_imported_cases          AR0004          NaN   \n",
       "4          cumulative_cases_under_study          AR0005          NaN   \n",
       "5            cumulative_cases_discarded          AR0006          NaN   \n",
       "6      cumulative_confirmed_local_cases          AR0001          NaN   \n",
       "7       cumulative_probable_local_cases          AR0002          NaN   \n",
       "8   cumulative_confirmed_imported_cases          AR0003          NaN   \n",
       "9    cumulative_probable_imported_cases          AR0004          NaN   \n",
       "10         cumulative_cases_under_study          AR0005          NaN   \n",
       "11           cumulative_cases_discarded          AR0006          NaN   \n",
       "12     cumulative_confirmed_local_cases          AR0001          NaN   \n",
       "13      cumulative_probable_local_cases          AR0002          NaN   \n",
       "14  cumulative_confirmed_imported_cases          AR0003          NaN   \n",
       "15   cumulative_probable_imported_cases          AR0004          NaN   \n",
       "16         cumulative_cases_under_study          AR0005          NaN   \n",
       "17           cumulative_cases_discarded          AR0006          NaN   \n",
       "18     cumulative_confirmed_local_cases          AR0001          NaN   \n",
       "19      cumulative_probable_local_cases          AR0002          NaN   \n",
       "\n",
       "    time_period_type value   unit  \n",
       "0                NaN     0  cases  \n",
       "1                NaN     0  cases  \n",
       "2                NaN     2  cases  \n",
       "3                NaN     1  cases  \n",
       "4                NaN   127  cases  \n",
       "5                NaN     0  cases  \n",
       "6                NaN     0  cases  \n",
       "7                NaN     0  cases  \n",
       "8                NaN     9  cases  \n",
       "9                NaN     0  cases  \n",
       "10               NaN    68  cases  \n",
       "11               NaN     1  cases  \n",
       "12               NaN     0  cases  \n",
       "13               NaN     0  cases  \n",
       "14               NaN     0  cases  \n",
       "15               NaN     0  cases  \n",
       "16               NaN    14  cases  \n",
       "17               NaN     0  cases  \n",
       "18               NaN     0  cases  \n",
       "19               NaN     0  cases  "
      ]
     },
     "execution_count": 4,
     "metadata": {},
     "output_type": "execute_result"
    }
   ],
   "source": [
    "df.head(20)"
   ]
  },
  {
   "cell_type": "code",
   "execution_count": 5,
   "metadata": {},
   "outputs": [],
   "source": [
    "country=['Argentina-Buenos_Aires', 'Argentina-CABA', 'Argentina-Catamarca']"
   ]
  },
  {
   "cell_type": "code",
   "execution_count": 6,
   "metadata": {},
   "outputs": [],
   "source": [
    "df_country1=df.query(\"location == 'Argentina-Buenos_Aires'\")"
   ]
  },
  {
   "cell_type": "code",
   "execution_count": 9,
   "metadata": {},
   "outputs": [
    {
     "data": {
      "text/html": [
       "<div>\n",
       "<style scoped>\n",
       "    .dataframe tbody tr th:only-of-type {\n",
       "        vertical-align: middle;\n",
       "    }\n",
       "\n",
       "    .dataframe tbody tr th {\n",
       "        vertical-align: top;\n",
       "    }\n",
       "\n",
       "    .dataframe thead th {\n",
       "        text-align: right;\n",
       "    }\n",
       "</style>\n",
       "<table border=\"1\" class=\"dataframe\">\n",
       "  <thead>\n",
       "    <tr style=\"text-align: right;\">\n",
       "      <th></th>\n",
       "      <th>report_date</th>\n",
       "      <th>location</th>\n",
       "      <th>location_type</th>\n",
       "      <th>data_field</th>\n",
       "      <th>data_field_code</th>\n",
       "      <th>time_period</th>\n",
       "      <th>time_period_type</th>\n",
       "      <th>value</th>\n",
       "      <th>unit</th>\n",
       "    </tr>\n",
       "  </thead>\n",
       "  <tbody>\n",
       "    <tr>\n",
       "      <th>0</th>\n",
       "      <td>2016-03-19</td>\n",
       "      <td>Argentina-Buenos_Aires</td>\n",
       "      <td>province</td>\n",
       "      <td>cumulative_confirmed_local_cases</td>\n",
       "      <td>AR0001</td>\n",
       "      <td>NaN</td>\n",
       "      <td>NaN</td>\n",
       "      <td>0</td>\n",
       "      <td>cases</td>\n",
       "    </tr>\n",
       "    <tr>\n",
       "      <th>1</th>\n",
       "      <td>2016-03-19</td>\n",
       "      <td>Argentina-Buenos_Aires</td>\n",
       "      <td>province</td>\n",
       "      <td>cumulative_probable_local_cases</td>\n",
       "      <td>AR0002</td>\n",
       "      <td>NaN</td>\n",
       "      <td>NaN</td>\n",
       "      <td>0</td>\n",
       "      <td>cases</td>\n",
       "    </tr>\n",
       "    <tr>\n",
       "      <th>2</th>\n",
       "      <td>2016-03-19</td>\n",
       "      <td>Argentina-Buenos_Aires</td>\n",
       "      <td>province</td>\n",
       "      <td>cumulative_confirmed_imported_cases</td>\n",
       "      <td>AR0003</td>\n",
       "      <td>NaN</td>\n",
       "      <td>NaN</td>\n",
       "      <td>2</td>\n",
       "      <td>cases</td>\n",
       "    </tr>\n",
       "    <tr>\n",
       "      <th>3</th>\n",
       "      <td>2016-03-19</td>\n",
       "      <td>Argentina-Buenos_Aires</td>\n",
       "      <td>province</td>\n",
       "      <td>cumulative_probable_imported_cases</td>\n",
       "      <td>AR0004</td>\n",
       "      <td>NaN</td>\n",
       "      <td>NaN</td>\n",
       "      <td>1</td>\n",
       "      <td>cases</td>\n",
       "    </tr>\n",
       "    <tr>\n",
       "      <th>4</th>\n",
       "      <td>2016-03-19</td>\n",
       "      <td>Argentina-Buenos_Aires</td>\n",
       "      <td>province</td>\n",
       "      <td>cumulative_cases_under_study</td>\n",
       "      <td>AR0005</td>\n",
       "      <td>NaN</td>\n",
       "      <td>NaN</td>\n",
       "      <td>127</td>\n",
       "      <td>cases</td>\n",
       "    </tr>\n",
       "    <tr>\n",
       "      <th>5</th>\n",
       "      <td>2016-03-19</td>\n",
       "      <td>Argentina-Buenos_Aires</td>\n",
       "      <td>province</td>\n",
       "      <td>cumulative_cases_discarded</td>\n",
       "      <td>AR0006</td>\n",
       "      <td>NaN</td>\n",
       "      <td>NaN</td>\n",
       "      <td>0</td>\n",
       "      <td>cases</td>\n",
       "    </tr>\n",
       "    <tr>\n",
       "      <th>144</th>\n",
       "      <td>2016-03-26</td>\n",
       "      <td>Argentina-Buenos_Aires</td>\n",
       "      <td>province</td>\n",
       "      <td>cumulative_confirmed_local_cases</td>\n",
       "      <td>AR0001</td>\n",
       "      <td>NaN</td>\n",
       "      <td>NaN</td>\n",
       "      <td>0</td>\n",
       "      <td>cases</td>\n",
       "    </tr>\n",
       "    <tr>\n",
       "      <th>145</th>\n",
       "      <td>2016-03-26</td>\n",
       "      <td>Argentina-Buenos_Aires</td>\n",
       "      <td>province</td>\n",
       "      <td>cumulative_probable_local_cases</td>\n",
       "      <td>AR0002</td>\n",
       "      <td>NaN</td>\n",
       "      <td>NaN</td>\n",
       "      <td>0</td>\n",
       "      <td>cases</td>\n",
       "    </tr>\n",
       "    <tr>\n",
       "      <th>146</th>\n",
       "      <td>2016-03-26</td>\n",
       "      <td>Argentina-Buenos_Aires</td>\n",
       "      <td>province</td>\n",
       "      <td>cumulative_confirmed_imported_cases</td>\n",
       "      <td>AR0003</td>\n",
       "      <td>NaN</td>\n",
       "      <td>NaN</td>\n",
       "      <td>2</td>\n",
       "      <td>cases</td>\n",
       "    </tr>\n",
       "    <tr>\n",
       "      <th>147</th>\n",
       "      <td>2016-03-26</td>\n",
       "      <td>Argentina-Buenos_Aires</td>\n",
       "      <td>province</td>\n",
       "      <td>cumulative_probable_imported_cases</td>\n",
       "      <td>AR0004</td>\n",
       "      <td>NaN</td>\n",
       "      <td>NaN</td>\n",
       "      <td>1</td>\n",
       "      <td>cases</td>\n",
       "    </tr>\n",
       "    <tr>\n",
       "      <th>148</th>\n",
       "      <td>2016-03-26</td>\n",
       "      <td>Argentina-Buenos_Aires</td>\n",
       "      <td>province</td>\n",
       "      <td>cumulative_cases_under_study</td>\n",
       "      <td>AR0005</td>\n",
       "      <td>NaN</td>\n",
       "      <td>NaN</td>\n",
       "      <td>145</td>\n",
       "      <td>cases</td>\n",
       "    </tr>\n",
       "    <tr>\n",
       "      <th>149</th>\n",
       "      <td>2016-03-26</td>\n",
       "      <td>Argentina-Buenos_Aires</td>\n",
       "      <td>province</td>\n",
       "      <td>cumulative_cases_discarded</td>\n",
       "      <td>AR0006</td>\n",
       "      <td>NaN</td>\n",
       "      <td>NaN</td>\n",
       "      <td>0</td>\n",
       "      <td>cases</td>\n",
       "    </tr>\n",
       "    <tr>\n",
       "      <th>288</th>\n",
       "      <td>2016-04-02</td>\n",
       "      <td>Argentina-Buenos_Aires</td>\n",
       "      <td>province</td>\n",
       "      <td>cumulative_confirmed_local_cases</td>\n",
       "      <td>AR0001</td>\n",
       "      <td>NaN</td>\n",
       "      <td>NaN</td>\n",
       "      <td>0</td>\n",
       "      <td>cases</td>\n",
       "    </tr>\n",
       "    <tr>\n",
       "      <th>289</th>\n",
       "      <td>2016-04-02</td>\n",
       "      <td>Argentina-Buenos_Aires</td>\n",
       "      <td>province</td>\n",
       "      <td>cumulative_probable_local_cases</td>\n",
       "      <td>AR0002</td>\n",
       "      <td>NaN</td>\n",
       "      <td>NaN</td>\n",
       "      <td>0</td>\n",
       "      <td>cases</td>\n",
       "    </tr>\n",
       "    <tr>\n",
       "      <th>290</th>\n",
       "      <td>2016-04-02</td>\n",
       "      <td>Argentina-Buenos_Aires</td>\n",
       "      <td>province</td>\n",
       "      <td>cumulative_confirmed_imported_cases</td>\n",
       "      <td>AR0003</td>\n",
       "      <td>NaN</td>\n",
       "      <td>NaN</td>\n",
       "      <td>2</td>\n",
       "      <td>cases</td>\n",
       "    </tr>\n",
       "    <tr>\n",
       "      <th>291</th>\n",
       "      <td>2016-04-02</td>\n",
       "      <td>Argentina-Buenos_Aires</td>\n",
       "      <td>province</td>\n",
       "      <td>cumulative_probable_imported_cases</td>\n",
       "      <td>AR0004</td>\n",
       "      <td>NaN</td>\n",
       "      <td>NaN</td>\n",
       "      <td>1</td>\n",
       "      <td>cases</td>\n",
       "    </tr>\n",
       "    <tr>\n",
       "      <th>292</th>\n",
       "      <td>2016-04-02</td>\n",
       "      <td>Argentina-Buenos_Aires</td>\n",
       "      <td>province</td>\n",
       "      <td>cumulative_cases_under_study</td>\n",
       "      <td>AR0005</td>\n",
       "      <td>NaN</td>\n",
       "      <td>NaN</td>\n",
       "      <td>173</td>\n",
       "      <td>cases</td>\n",
       "    </tr>\n",
       "    <tr>\n",
       "      <th>293</th>\n",
       "      <td>2016-04-02</td>\n",
       "      <td>Argentina-Buenos_Aires</td>\n",
       "      <td>province</td>\n",
       "      <td>cumulative_cases_discarded</td>\n",
       "      <td>AR0006</td>\n",
       "      <td>NaN</td>\n",
       "      <td>NaN</td>\n",
       "      <td>14</td>\n",
       "      <td>cases</td>\n",
       "    </tr>\n",
       "    <tr>\n",
       "      <th>432</th>\n",
       "      <td>2016-04-09</td>\n",
       "      <td>Argentina-Buenos_Aires</td>\n",
       "      <td>province</td>\n",
       "      <td>cumulative_confirmed_local_cases</td>\n",
       "      <td>AR0001</td>\n",
       "      <td>NaN</td>\n",
       "      <td>NaN</td>\n",
       "      <td>0</td>\n",
       "      <td>cases</td>\n",
       "    </tr>\n",
       "    <tr>\n",
       "      <th>433</th>\n",
       "      <td>2016-04-09</td>\n",
       "      <td>Argentina-Buenos_Aires</td>\n",
       "      <td>province</td>\n",
       "      <td>cumulative_probable_local_cases</td>\n",
       "      <td>AR0002</td>\n",
       "      <td>NaN</td>\n",
       "      <td>NaN</td>\n",
       "      <td>0</td>\n",
       "      <td>cases</td>\n",
       "    </tr>\n",
       "  </tbody>\n",
       "</table>\n",
       "</div>"
      ],
      "text/plain": [
       "    report_date                location location_type  \\\n",
       "0    2016-03-19  Argentina-Buenos_Aires      province   \n",
       "1    2016-03-19  Argentina-Buenos_Aires      province   \n",
       "2    2016-03-19  Argentina-Buenos_Aires      province   \n",
       "3    2016-03-19  Argentina-Buenos_Aires      province   \n",
       "4    2016-03-19  Argentina-Buenos_Aires      province   \n",
       "5    2016-03-19  Argentina-Buenos_Aires      province   \n",
       "144  2016-03-26  Argentina-Buenos_Aires      province   \n",
       "145  2016-03-26  Argentina-Buenos_Aires      province   \n",
       "146  2016-03-26  Argentina-Buenos_Aires      province   \n",
       "147  2016-03-26  Argentina-Buenos_Aires      province   \n",
       "148  2016-03-26  Argentina-Buenos_Aires      province   \n",
       "149  2016-03-26  Argentina-Buenos_Aires      province   \n",
       "288  2016-04-02  Argentina-Buenos_Aires      province   \n",
       "289  2016-04-02  Argentina-Buenos_Aires      province   \n",
       "290  2016-04-02  Argentina-Buenos_Aires      province   \n",
       "291  2016-04-02  Argentina-Buenos_Aires      province   \n",
       "292  2016-04-02  Argentina-Buenos_Aires      province   \n",
       "293  2016-04-02  Argentina-Buenos_Aires      province   \n",
       "432  2016-04-09  Argentina-Buenos_Aires      province   \n",
       "433  2016-04-09  Argentina-Buenos_Aires      province   \n",
       "\n",
       "                              data_field data_field_code  time_period  \\\n",
       "0       cumulative_confirmed_local_cases          AR0001          NaN   \n",
       "1        cumulative_probable_local_cases          AR0002          NaN   \n",
       "2    cumulative_confirmed_imported_cases          AR0003          NaN   \n",
       "3     cumulative_probable_imported_cases          AR0004          NaN   \n",
       "4           cumulative_cases_under_study          AR0005          NaN   \n",
       "5             cumulative_cases_discarded          AR0006          NaN   \n",
       "144     cumulative_confirmed_local_cases          AR0001          NaN   \n",
       "145      cumulative_probable_local_cases          AR0002          NaN   \n",
       "146  cumulative_confirmed_imported_cases          AR0003          NaN   \n",
       "147   cumulative_probable_imported_cases          AR0004          NaN   \n",
       "148         cumulative_cases_under_study          AR0005          NaN   \n",
       "149           cumulative_cases_discarded          AR0006          NaN   \n",
       "288     cumulative_confirmed_local_cases          AR0001          NaN   \n",
       "289      cumulative_probable_local_cases          AR0002          NaN   \n",
       "290  cumulative_confirmed_imported_cases          AR0003          NaN   \n",
       "291   cumulative_probable_imported_cases          AR0004          NaN   \n",
       "292         cumulative_cases_under_study          AR0005          NaN   \n",
       "293           cumulative_cases_discarded          AR0006          NaN   \n",
       "432     cumulative_confirmed_local_cases          AR0001          NaN   \n",
       "433      cumulative_probable_local_cases          AR0002          NaN   \n",
       "\n",
       "     time_period_type value   unit  \n",
       "0                 NaN     0  cases  \n",
       "1                 NaN     0  cases  \n",
       "2                 NaN     2  cases  \n",
       "3                 NaN     1  cases  \n",
       "4                 NaN   127  cases  \n",
       "5                 NaN     0  cases  \n",
       "144               NaN     0  cases  \n",
       "145               NaN     0  cases  \n",
       "146               NaN     2  cases  \n",
       "147               NaN     1  cases  \n",
       "148               NaN   145  cases  \n",
       "149               NaN     0  cases  \n",
       "288               NaN     0  cases  \n",
       "289               NaN     0  cases  \n",
       "290               NaN     2  cases  \n",
       "291               NaN     1  cases  \n",
       "292               NaN   173  cases  \n",
       "293               NaN    14  cases  \n",
       "432               NaN     0  cases  \n",
       "433               NaN     0  cases  "
      ]
     },
     "execution_count": 9,
     "metadata": {},
     "output_type": "execute_result"
    }
   ],
   "source": [
    "df_country1.head(20)"
   ]
  },
  {
   "cell_type": "code",
   "execution_count": 11,
   "metadata": {},
   "outputs": [
    {
     "data": {
      "text/plain": [
       "array(['cumulative_confirmed_local_cases',\n",
       "       'cumulative_probable_local_cases',\n",
       "       'cumulative_confirmed_imported_cases',\n",
       "       'cumulative_probable_imported_cases',\n",
       "       'cumulative_cases_under_study', 'cumulative_cases_discarded'],\n",
       "      dtype=object)"
      ]
     },
     "execution_count": 11,
     "metadata": {},
     "output_type": "execute_result"
    }
   ],
   "source": [
    "df_country1['data_field'].unique()"
   ]
  },
  {
   "cell_type": "code",
   "execution_count": 12,
   "metadata": {},
   "outputs": [],
   "source": [
    "df_country2=df.query(\"location == 'Argentina-CABA'\")"
   ]
  },
  {
   "cell_type": "code",
   "execution_count": 14,
   "metadata": {},
   "outputs": [
    {
     "data": {
      "text/plain": [
       "array(['cumulative_confirmed_local_cases',\n",
       "       'cumulative_probable_local_cases',\n",
       "       'cumulative_confirmed_imported_cases',\n",
       "       'cumulative_probable_imported_cases',\n",
       "       'cumulative_cases_under_study', 'cumulative_cases_discarded'],\n",
       "      dtype=object)"
      ]
     },
     "execution_count": 14,
     "metadata": {},
     "output_type": "execute_result"
    }
   ],
   "source": [
    "df_country2['data_field'].unique()"
   ]
  },
  {
   "cell_type": "code",
   "execution_count": 15,
   "metadata": {},
   "outputs": [],
   "source": [
    "df_country3=df.query(\"location =='Argentina-Catamarca'\")"
   ]
  },
  {
   "cell_type": "code",
   "execution_count": 16,
   "metadata": {},
   "outputs": [
    {
     "data": {
      "text/plain": [
       "array(['cumulative_confirmed_local_cases',\n",
       "       'cumulative_probable_local_cases',\n",
       "       'cumulative_confirmed_imported_cases',\n",
       "       'cumulative_probable_imported_cases',\n",
       "       'cumulative_cases_under_study', 'cumulative_cases_discarded'],\n",
       "      dtype=object)"
      ]
     },
     "execution_count": 16,
     "metadata": {},
     "output_type": "execute_result"
    }
   ],
   "source": [
    "df_country3['data_field'].unique()"
   ]
  },
  {
   "cell_type": "code",
   "execution_count": 17,
   "metadata": {},
   "outputs": [
    {
     "data": {
      "text/plain": [
       "cumulative_cases_discarded             14\n",
       "cumulative_confirmed_local_cases       14\n",
       "cumulative_probable_local_cases        14\n",
       "cumulative_probable_imported_cases     14\n",
       "cumulative_confirmed_imported_cases    14\n",
       "cumulative_cases_under_study           14\n",
       "Name: data_field, dtype: int64"
      ]
     },
     "execution_count": 17,
     "metadata": {},
     "output_type": "execute_result"
    }
   ],
   "source": [
    "df_country1['data_field'].value_counts()"
   ]
  },
  {
   "cell_type": "code",
   "execution_count": 19,
   "metadata": {},
   "outputs": [
    {
     "data": {
      "text/plain": [
       "cumulative_cases_discarded             14\n",
       "cumulative_confirmed_local_cases       14\n",
       "cumulative_probable_local_cases        14\n",
       "cumulative_probable_imported_cases     14\n",
       "cumulative_confirmed_imported_cases    14\n",
       "cumulative_cases_under_study           14\n",
       "Name: data_field, dtype: int64"
      ]
     },
     "execution_count": 19,
     "metadata": {},
     "output_type": "execute_result"
    }
   ],
   "source": [
    "df_country2['data_field'].value_counts()"
   ]
  },
  {
   "cell_type": "code",
   "execution_count": 20,
   "metadata": {},
   "outputs": [
    {
     "data": {
      "text/plain": [
       "cumulative_cases_discarded             14\n",
       "cumulative_confirmed_local_cases       14\n",
       "cumulative_probable_local_cases        14\n",
       "cumulative_probable_imported_cases     14\n",
       "cumulative_confirmed_imported_cases    14\n",
       "cumulative_cases_under_study           14\n",
       "Name: data_field, dtype: int64"
      ]
     },
     "execution_count": 20,
     "metadata": {},
     "output_type": "execute_result"
    }
   ],
   "source": [
    "df_country3['data_field'].value_counts()"
   ]
  },
  {
   "cell_type": "code",
   "execution_count": 25,
   "metadata": {},
   "outputs": [
    {
     "data": {
      "text/plain": [
       "True"
      ]
     },
     "execution_count": 25,
     "metadata": {},
     "output_type": "execute_result"
    }
   ],
   "source": [
    "len(df_country1['data_field'])==len(df_country2['data_field'])==len(df_country3['data_field'])"
   ]
  },
  {
   "cell_type": "code",
   "execution_count": 22,
   "metadata": {},
   "outputs": [
    {
     "data": {
      "text/plain": [
       "array(['2016-03-19', '2016-03-26', '2016-04-02', '2016-04-09',\n",
       "       '2016-04-16', '2016-04-29', '2016-05-07', '2016-05-14',\n",
       "       '2016-05-22', '2016-05-30', '2016-06-06', '2016-06-13',\n",
       "       '2016-06-18', '2016-06-26'], dtype=object)"
      ]
     },
     "execution_count": 22,
     "metadata": {},
     "output_type": "execute_result"
    }
   ],
   "source": [
    "df_country1['report_date'].unique()"
   ]
  },
  {
   "cell_type": "code",
   "execution_count": 23,
   "metadata": {},
   "outputs": [
    {
     "data": {
      "text/plain": [
       "array(['2016-03-19', '2016-03-26', '2016-04-02', '2016-04-09',\n",
       "       '2016-04-16', '2016-04-29', '2016-05-07', '2016-05-14',\n",
       "       '2016-05-22', '2016-05-30', '2016-06-06', '2016-06-13',\n",
       "       '2016-06-18', '2016-06-26'], dtype=object)"
      ]
     },
     "execution_count": 23,
     "metadata": {},
     "output_type": "execute_result"
    }
   ],
   "source": [
    "df_country2['report_date'].unique()"
   ]
  },
  {
   "cell_type": "code",
   "execution_count": 24,
   "metadata": {},
   "outputs": [
    {
     "data": {
      "text/plain": [
       "array(['2016-03-19', '2016-03-26', '2016-04-02', '2016-04-09',\n",
       "       '2016-04-16', '2016-04-29', '2016-05-07', '2016-05-14',\n",
       "       '2016-05-22', '2016-05-30', '2016-06-06', '2016-06-13',\n",
       "       '2016-06-18', '2016-06-26'], dtype=object)"
      ]
     },
     "execution_count": 24,
     "metadata": {},
     "output_type": "execute_result"
    }
   ],
   "source": [
    "df_country3['report_date'].unique()"
   ]
  },
  {
   "cell_type": "code",
   "execution_count": 28,
   "metadata": {},
   "outputs": [],
   "source": [
    "data_field_values=df_country3['data_field'].unique()"
   ]
  },
  {
   "cell_type": "code",
   "execution_count": 29,
   "metadata": {},
   "outputs": [
    {
     "data": {
      "text/plain": [
       "array(['cumulative_confirmed_local_cases',\n",
       "       'cumulative_probable_local_cases',\n",
       "       'cumulative_confirmed_imported_cases',\n",
       "       'cumulative_probable_imported_cases',\n",
       "       'cumulative_cases_under_study', 'cumulative_cases_discarded'],\n",
       "      dtype=object)"
      ]
     },
     "execution_count": 29,
     "metadata": {},
     "output_type": "execute_result"
    }
   ],
   "source": [
    "data_field_values"
   ]
  },
  {
   "cell_type": "code",
   "execution_count": 30,
   "metadata": {},
   "outputs": [],
   "source": [
    "data_field_date=df_country1['report_date'].unique()"
   ]
  },
  {
   "cell_type": "code",
   "execution_count": 31,
   "metadata": {},
   "outputs": [
    {
     "data": {
      "text/plain": [
       "array(['2016-03-19', '2016-03-26', '2016-04-02', '2016-04-09',\n",
       "       '2016-04-16', '2016-04-29', '2016-05-07', '2016-05-14',\n",
       "       '2016-05-22', '2016-05-30', '2016-06-06', '2016-06-13',\n",
       "       '2016-06-18', '2016-06-26'], dtype=object)"
      ]
     },
     "execution_count": 31,
     "metadata": {},
     "output_type": "execute_result"
    }
   ],
   "source": [
    "data_field_date"
   ]
  },
  {
   "cell_type": "code",
   "execution_count": 32,
   "metadata": {},
   "outputs": [
    {
     "data": {
      "text/html": [
       "<div>\n",
       "<style scoped>\n",
       "    .dataframe tbody tr th:only-of-type {\n",
       "        vertical-align: middle;\n",
       "    }\n",
       "\n",
       "    .dataframe tbody tr th {\n",
       "        vertical-align: top;\n",
       "    }\n",
       "\n",
       "    .dataframe thead th {\n",
       "        text-align: right;\n",
       "    }\n",
       "</style>\n",
       "<table border=\"1\" class=\"dataframe\">\n",
       "  <thead>\n",
       "    <tr style=\"text-align: right;\">\n",
       "      <th></th>\n",
       "      <th>report_date</th>\n",
       "      <th>location</th>\n",
       "      <th>location_type</th>\n",
       "      <th>data_field</th>\n",
       "      <th>data_field_code</th>\n",
       "      <th>time_period</th>\n",
       "      <th>time_period_type</th>\n",
       "      <th>value</th>\n",
       "      <th>unit</th>\n",
       "    </tr>\n",
       "  </thead>\n",
       "  <tbody>\n",
       "    <tr>\n",
       "      <th>0</th>\n",
       "      <td>2016-03-19</td>\n",
       "      <td>Argentina-Buenos_Aires</td>\n",
       "      <td>province</td>\n",
       "      <td>cumulative_confirmed_local_cases</td>\n",
       "      <td>AR0001</td>\n",
       "      <td>NaN</td>\n",
       "      <td>NaN</td>\n",
       "      <td>0</td>\n",
       "      <td>cases</td>\n",
       "    </tr>\n",
       "    <tr>\n",
       "      <th>1</th>\n",
       "      <td>2016-03-19</td>\n",
       "      <td>Argentina-Buenos_Aires</td>\n",
       "      <td>province</td>\n",
       "      <td>cumulative_probable_local_cases</td>\n",
       "      <td>AR0002</td>\n",
       "      <td>NaN</td>\n",
       "      <td>NaN</td>\n",
       "      <td>0</td>\n",
       "      <td>cases</td>\n",
       "    </tr>\n",
       "    <tr>\n",
       "      <th>2</th>\n",
       "      <td>2016-03-19</td>\n",
       "      <td>Argentina-Buenos_Aires</td>\n",
       "      <td>province</td>\n",
       "      <td>cumulative_confirmed_imported_cases</td>\n",
       "      <td>AR0003</td>\n",
       "      <td>NaN</td>\n",
       "      <td>NaN</td>\n",
       "      <td>2</td>\n",
       "      <td>cases</td>\n",
       "    </tr>\n",
       "    <tr>\n",
       "      <th>3</th>\n",
       "      <td>2016-03-19</td>\n",
       "      <td>Argentina-Buenos_Aires</td>\n",
       "      <td>province</td>\n",
       "      <td>cumulative_probable_imported_cases</td>\n",
       "      <td>AR0004</td>\n",
       "      <td>NaN</td>\n",
       "      <td>NaN</td>\n",
       "      <td>1</td>\n",
       "      <td>cases</td>\n",
       "    </tr>\n",
       "    <tr>\n",
       "      <th>4</th>\n",
       "      <td>2016-03-19</td>\n",
       "      <td>Argentina-Buenos_Aires</td>\n",
       "      <td>province</td>\n",
       "      <td>cumulative_cases_under_study</td>\n",
       "      <td>AR0005</td>\n",
       "      <td>NaN</td>\n",
       "      <td>NaN</td>\n",
       "      <td>127</td>\n",
       "      <td>cases</td>\n",
       "    </tr>\n",
       "    <tr>\n",
       "      <th>5</th>\n",
       "      <td>2016-03-19</td>\n",
       "      <td>Argentina-Buenos_Aires</td>\n",
       "      <td>province</td>\n",
       "      <td>cumulative_cases_discarded</td>\n",
       "      <td>AR0006</td>\n",
       "      <td>NaN</td>\n",
       "      <td>NaN</td>\n",
       "      <td>0</td>\n",
       "      <td>cases</td>\n",
       "    </tr>\n",
       "  </tbody>\n",
       "</table>\n",
       "</div>"
      ],
      "text/plain": [
       "  report_date                location location_type  \\\n",
       "0  2016-03-19  Argentina-Buenos_Aires      province   \n",
       "1  2016-03-19  Argentina-Buenos_Aires      province   \n",
       "2  2016-03-19  Argentina-Buenos_Aires      province   \n",
       "3  2016-03-19  Argentina-Buenos_Aires      province   \n",
       "4  2016-03-19  Argentina-Buenos_Aires      province   \n",
       "5  2016-03-19  Argentina-Buenos_Aires      province   \n",
       "\n",
       "                            data_field data_field_code  time_period  \\\n",
       "0     cumulative_confirmed_local_cases          AR0001          NaN   \n",
       "1      cumulative_probable_local_cases          AR0002          NaN   \n",
       "2  cumulative_confirmed_imported_cases          AR0003          NaN   \n",
       "3   cumulative_probable_imported_cases          AR0004          NaN   \n",
       "4         cumulative_cases_under_study          AR0005          NaN   \n",
       "5           cumulative_cases_discarded          AR0006          NaN   \n",
       "\n",
       "   time_period_type value   unit  \n",
       "0               NaN     0  cases  \n",
       "1               NaN     0  cases  \n",
       "2               NaN     2  cases  \n",
       "3               NaN     1  cases  \n",
       "4               NaN   127  cases  \n",
       "5               NaN     0  cases  "
      ]
     },
     "execution_count": 32,
     "metadata": {},
     "output_type": "execute_result"
    }
   ],
   "source": [
    "df_country1.query(\"report_date=='2016-03-19'\")"
   ]
  },
  {
   "cell_type": "code",
   "execution_count": 33,
   "metadata": {},
   "outputs": [
    {
     "data": {
      "text/plain": [
       "cumulative_cases_discarded             14\n",
       "cumulative_confirmed_local_cases       14\n",
       "cumulative_probable_local_cases        14\n",
       "cumulative_probable_imported_cases     14\n",
       "cumulative_confirmed_imported_cases    14\n",
       "cumulative_cases_under_study           14\n",
       "Name: data_field, dtype: int64"
      ]
     },
     "execution_count": 33,
     "metadata": {},
     "output_type": "execute_result"
    }
   ],
   "source": [
    "df_country1['data_field'].value_counts()"
   ]
  },
  {
   "cell_type": "code",
   "execution_count": 39,
   "metadata": {},
   "outputs": [],
   "source": [
    "labels=df_country1['data_field'].value_counts().index"
   ]
  },
  {
   "cell_type": "code",
   "execution_count": 40,
   "metadata": {},
   "outputs": [
    {
     "data": {
      "text/plain": [
       "Index(['cumulative_cases_discarded', 'cumulative_confirmed_local_cases',\n",
       "       'cumulative_probable_local_cases', 'cumulative_probable_imported_cases',\n",
       "       'cumulative_confirmed_imported_cases', 'cumulative_cases_under_study'],\n",
       "      dtype='object')"
      ]
     },
     "execution_count": 40,
     "metadata": {},
     "output_type": "execute_result"
    }
   ],
   "source": [
    "labels"
   ]
  },
  {
   "cell_type": "code",
   "execution_count": 37,
   "metadata": {},
   "outputs": [],
   "source": [
    "freq=df_country1['data_field'].value_counts().values"
   ]
  },
  {
   "cell_type": "code",
   "execution_count": 38,
   "metadata": {},
   "outputs": [
    {
     "data": {
      "text/plain": [
       "array([14, 14, 14, 14, 14, 14], dtype=int64)"
      ]
     },
     "execution_count": 38,
     "metadata": {},
     "output_type": "execute_result"
    }
   ],
   "source": [
    "freq"
   ]
  },
  {
   "cell_type": "code",
   "execution_count": 52,
   "metadata": {},
   "outputs": [
    {
     "data": {
      "image/png": "[encoded data removed]",
      "text/plain": [
       "<Figure size 432x288 with 1 Axes>"
      ]
     },
     "metadata": {},
     "output_type": "display_data"
    }
   ],
   "source": [
    "#labels = ['Cookies', 'Jellybean', 'Milkshake', 'Cheesecake']\n",
    "#sizes = [38.4, 40.6, 20.7, 10.3]\n",
    "# colors = ['yellowgreen', 'gold', 'lightskyblue', 'lightcoral']\n",
    "patches, texts = plt.pie(freq, shadow=True, startangle=90)\n",
    "plt.legend(patches, labels, loc=\"best\")\n",
    "plt.axis('equal')\n",
    "plt.tight_layout()"
   ]
  },
  {
   "cell_type": "code",
   "execution_count": 54,
   "metadata": {},
   "outputs": [
    {
     "data": {
      "image/png": "[encoded data removed]",
      "text/plain": [
       "<Figure size 432x288 with 1 Axes>"
      ]
     },
     "metadata": {},
     "output_type": "display_data"
    }
   ],
   "source": [
    "fig1, ax1 = plt.subplots()\n",
    "ax1.pie(freq,labels=labels, autopct='%1.1f%%',shadow=True, startangle=90)\n",
    "ax1.axis('equal')\n",
    "plt.title(country[0])\n",
    "plt.show()"
   ]
  },
  {
   "cell_type": "code",
   "execution_count": 56,
   "metadata": {},
   "outputs": [
    {
     "data": {
      "image/png": "[encoded data removed]",
      "text/plain": [
       "<Figure size 432x288 with 1 Axes>"
      ]
     },
     "metadata": {},
     "output_type": "display_data"
    }
   ],
   "source": [
    "labels=df_country2['data_field'].value_counts().index\n",
    "freq=df_country2['data_field'].value_counts().values\n",
    "fig1, ax1 = plt.subplots()\n",
    "ax1.pie(freq, labels=labels, autopct='%1.1f%%',shadow=True, startangle=90)\n",
    "ax1.axis('equal')\n",
    "plt.title(country[1])\n",
    "plt.show()"
   ]
  },
  {
   "cell_type": "code",
   "execution_count": 57,
   "metadata": {},
   "outputs": [
    {
     "data": {
      "image/png": "[encoded data removed]",
      "text/plain": [
       "<Figure size 432x288 with 1 Axes>"
      ]
     },
     "metadata": {},
     "output_type": "display_data"
    }
   ],
   "source": [
    "labels=df_country3['data_field'].value_counts().index\n",
    "freq=df_country3['data_field'].value_counts().values\n",
    "fig1, ax1 = plt.subplots()\n",
    "ax1.pie(freq, labels=labels, autopct='%1.1f%%',shadow=True, startangle=90)\n",
    "ax1.axis('equal')\n",
    "plt.title(country[2])\n",
    "plt.show()"
   ]
  },
  {
   "cell_type": "code",
   "execution_count": null,
   "metadata": {},
   "outputs": [],
   "source": []
  }
 ],
 "metadata": {
  "kernelspec": {
   "display_name": "Python 3",
   "language": "python",
   "name": "python3"
  },
  "language_info": {
   "codemirror_mode": {
    "name": "ipython",
    "version": 3
   },
   "file_extension": ".py",
   "mimetype": "text/x-python",
   "name": "python",
   "nbconvert_exporter": "python",
   "pygments_lexer": "ipython3",
   "version": "3.7.3"
  }
 },
 "nbformat": 4,
 "nbformat_minor": 2
}
