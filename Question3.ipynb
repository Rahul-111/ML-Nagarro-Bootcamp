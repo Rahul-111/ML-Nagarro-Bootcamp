{
 "cells": [
  {
   "cell_type": "code",
   "execution_count": 1,
   "metadata": {},
   "outputs": [],
   "source": [
    "import numpy as np\n",
    "import pandas as pd\n",
    "import matplotlib.pyplot as plt\n",
    "%matplotlib inline"
   ]
  },
  {
   "cell_type": "code",
   "execution_count": 2,
   "metadata": {},
   "outputs": [
    {
     "name": "stderr",
     "output_type": "stream",
     "text": [
      "C:\\Users\\Rahul\\Anaconda3\\lib\\site-packages\\IPython\\core\\interactiveshell.py:3049: DtypeWarning: Columns (7) have mixed types. Specify dtype option on import or set low_memory=False.\n",
      "  interactivity=interactivity, compiler=compiler, result=result)\n"
     ]
    }
   ],
   "source": [
    "df=pd.read_csv('data.csv')"
   ]
  },
  {
   "cell_type": "code",
   "execution_count": 3,
   "metadata": {},
   "outputs": [
    {
     "data": {
      "text/html": [
       "<div>\n",
       "<style scoped>\n",
       "    .dataframe tbody tr th:only-of-type {\n",
       "        vertical-align: middle;\n",
       "    }\n",
       "\n",
       "    .dataframe tbody tr th {\n",
       "        vertical-align: top;\n",
       "    }\n",
       "\n",
       "    .dataframe thead th {\n",
       "        text-align: right;\n",
       "    }\n",
       "</style>\n",
       "<table border=\"1\" class=\"dataframe\">\n",
       "  <thead>\n",
       "    <tr style=\"text-align: right;\">\n",
       "      <th></th>\n",
       "      <th>report_date</th>\n",
       "      <th>location</th>\n",
       "      <th>location_type</th>\n",
       "      <th>data_field</th>\n",
       "      <th>data_field_code</th>\n",
       "      <th>time_period</th>\n",
       "      <th>time_period_type</th>\n",
       "      <th>value</th>\n",
       "      <th>unit</th>\n",
       "    </tr>\n",
       "  </thead>\n",
       "  <tbody>\n",
       "    <tr>\n",
       "      <th>0</th>\n",
       "      <td>2016-03-19</td>\n",
       "      <td>Argentina-Buenos_Aires</td>\n",
       "      <td>province</td>\n",
       "      <td>cumulative_confirmed_local_cases</td>\n",
       "      <td>AR0001</td>\n",
       "      <td>NaN</td>\n",
       "      <td>NaN</td>\n",
       "      <td>0</td>\n",
       "      <td>cases</td>\n",
       "    </tr>\n",
       "    <tr>\n",
       "      <th>1</th>\n",
       "      <td>2016-03-19</td>\n",
       "      <td>Argentina-Buenos_Aires</td>\n",
       "      <td>province</td>\n",
       "      <td>cumulative_probable_local_cases</td>\n",
       "      <td>AR0002</td>\n",
       "      <td>NaN</td>\n",
       "      <td>NaN</td>\n",
       "      <td>0</td>\n",
       "      <td>cases</td>\n",
       "    </tr>\n",
       "    <tr>\n",
       "      <th>2</th>\n",
       "      <td>2016-03-19</td>\n",
       "      <td>Argentina-Buenos_Aires</td>\n",
       "      <td>province</td>\n",
       "      <td>cumulative_confirmed_imported_cases</td>\n",
       "      <td>AR0003</td>\n",
       "      <td>NaN</td>\n",
       "      <td>NaN</td>\n",
       "      <td>2</td>\n",
       "      <td>cases</td>\n",
       "    </tr>\n",
       "    <tr>\n",
       "      <th>3</th>\n",
       "      <td>2016-03-19</td>\n",
       "      <td>Argentina-Buenos_Aires</td>\n",
       "      <td>province</td>\n",
       "      <td>cumulative_probable_imported_cases</td>\n",
       "      <td>AR0004</td>\n",
       "      <td>NaN</td>\n",
       "      <td>NaN</td>\n",
       "      <td>1</td>\n",
       "      <td>cases</td>\n",
       "    </tr>\n",
       "    <tr>\n",
       "      <th>4</th>\n",
       "      <td>2016-03-19</td>\n",
       "      <td>Argentina-Buenos_Aires</td>\n",
       "      <td>province</td>\n",
       "      <td>cumulative_cases_under_study</td>\n",
       "      <td>AR0005</td>\n",
       "      <td>NaN</td>\n",
       "      <td>NaN</td>\n",
       "      <td>127</td>\n",
       "      <td>cases</td>\n",
       "    </tr>\n",
       "  </tbody>\n",
       "</table>\n",
       "</div>"
      ],
      "text/plain": [
       "  report_date                location location_type  \\\n",
       "0  2016-03-19  Argentina-Buenos_Aires      province   \n",
       "1  2016-03-19  Argentina-Buenos_Aires      province   \n",
       "2  2016-03-19  Argentina-Buenos_Aires      province   \n",
       "3  2016-03-19  Argentina-Buenos_Aires      province   \n",
       "4  2016-03-19  Argentina-Buenos_Aires      province   \n",
       "\n",
       "                            data_field data_field_code  time_period  \\\n",
       "0     cumulative_confirmed_local_cases          AR0001          NaN   \n",
       "1      cumulative_probable_local_cases          AR0002          NaN   \n",
       "2  cumulative_confirmed_imported_cases          AR0003          NaN   \n",
       "3   cumulative_probable_imported_cases          AR0004          NaN   \n",
       "4         cumulative_cases_under_study          AR0005          NaN   \n",
       "\n",
       "   time_period_type value   unit  \n",
       "0               NaN     0  cases  \n",
       "1               NaN     0  cases  \n",
       "2               NaN     2  cases  \n",
       "3               NaN     1  cases  \n",
       "4               NaN   127  cases  "
      ]
     },
     "execution_count": 3,
     "metadata": {},
     "output_type": "execute_result"
    }
   ],
   "source": [
    "df.head()"
   ]
  },
  {
   "cell_type": "code",
   "execution_count": 4,
   "metadata": {},
   "outputs": [],
   "source": [
    "country=['Argentina-Buenos_Aires','Argentina-CABA','Argentina-Catamarca']\n",
    "df_count1=df.query(\"location=='Argentina-Buenos_Aires'\")"
   ]
  },
  {
   "cell_type": "code",
   "execution_count": 5,
   "metadata": {},
   "outputs": [
    {
     "data": {
      "text/plain": [
       "array(['AR0001', 'AR0002', 'AR0003', 'AR0004', 'AR0005', 'AR0006'],\n",
       "      dtype=object)"
      ]
     },
     "execution_count": 5,
     "metadata": {},
     "output_type": "execute_result"
    }
   ],
   "source": [
    "df_count1['data_field_code'].unique()"
   ]
  },
  {
   "cell_type": "code",
   "execution_count": 6,
   "metadata": {},
   "outputs": [],
   "source": [
    "df_count2=df.query(\"location=='Argentina-CABA'\")"
   ]
  },
  {
   "cell_type": "code",
   "execution_count": 7,
   "metadata": {},
   "outputs": [
    {
     "data": {
      "text/plain": [
       "array(['AR0001', 'AR0002', 'AR0003', 'AR0004', 'AR0005', 'AR0006'],\n",
       "      dtype=object)"
      ]
     },
     "execution_count": 7,
     "metadata": {},
     "output_type": "execute_result"
    }
   ],
   "source": [
    "df_count2['data_field_code'].unique()"
   ]
  },
  {
   "cell_type": "code",
   "execution_count": 8,
   "metadata": {},
   "outputs": [],
   "source": [
    "df_count3=df.query(\"location=='Argentina-CABA'\")"
   ]
  },
  {
   "cell_type": "code",
   "execution_count": 9,
   "metadata": {},
   "outputs": [
    {
     "data": {
      "text/plain": [
       "array(['AR0001', 'AR0002', 'AR0003', 'AR0004', 'AR0005', 'AR0006'],\n",
       "      dtype=object)"
      ]
     },
     "execution_count": 9,
     "metadata": {},
     "output_type": "execute_result"
    }
   ],
   "source": [
    "df_count3['data_field_code'].unique()"
   ]
  },
  {
   "cell_type": "code",
   "execution_count": 14,
   "metadata": {},
   "outputs": [],
   "source": [
    "data_field_code_country=df_count3['data_field_code'].unique()"
   ]
  },
  {
   "cell_type": "code",
   "execution_count": 21,
   "metadata": {},
   "outputs": [],
   "source": [
    "#for a code "
   ]
  },
  {
   "cell_type": "code",
   "execution_count": 23,
   "metadata": {
    "scrolled": true
   },
   "outputs": [
    {
     "data": {
      "text/html": [
       "<div>\n",
       "<style scoped>\n",
       "    .dataframe tbody tr th:only-of-type {\n",
       "        vertical-align: middle;\n",
       "    }\n",
       "\n",
       "    .dataframe tbody tr th {\n",
       "        vertical-align: top;\n",
       "    }\n",
       "\n",
       "    .dataframe thead th {\n",
       "        text-align: right;\n",
       "    }\n",
       "</style>\n",
       "<table border=\"1\" class=\"dataframe\">\n",
       "  <thead>\n",
       "    <tr style=\"text-align: right;\">\n",
       "      <th></th>\n",
       "      <th>report_date</th>\n",
       "      <th>location</th>\n",
       "      <th>location_type</th>\n",
       "      <th>data_field</th>\n",
       "      <th>data_field_code</th>\n",
       "      <th>time_period</th>\n",
       "      <th>time_period_type</th>\n",
       "      <th>value</th>\n",
       "      <th>unit</th>\n",
       "    </tr>\n",
       "  </thead>\n",
       "  <tbody>\n",
       "    <tr>\n",
       "      <th>0</th>\n",
       "      <td>2016-03-19</td>\n",
       "      <td>Argentina-Buenos_Aires</td>\n",
       "      <td>province</td>\n",
       "      <td>cumulative_confirmed_local_cases</td>\n",
       "      <td>AR0001</td>\n",
       "      <td>NaN</td>\n",
       "      <td>NaN</td>\n",
       "      <td>0</td>\n",
       "      <td>cases</td>\n",
       "    </tr>\n",
       "    <tr>\n",
       "      <th>1</th>\n",
       "      <td>2016-03-19</td>\n",
       "      <td>Argentina-Buenos_Aires</td>\n",
       "      <td>province</td>\n",
       "      <td>cumulative_probable_local_cases</td>\n",
       "      <td>AR0002</td>\n",
       "      <td>NaN</td>\n",
       "      <td>NaN</td>\n",
       "      <td>0</td>\n",
       "      <td>cases</td>\n",
       "    </tr>\n",
       "    <tr>\n",
       "      <th>2</th>\n",
       "      <td>2016-03-19</td>\n",
       "      <td>Argentina-Buenos_Aires</td>\n",
       "      <td>province</td>\n",
       "      <td>cumulative_confirmed_imported_cases</td>\n",
       "      <td>AR0003</td>\n",
       "      <td>NaN</td>\n",
       "      <td>NaN</td>\n",
       "      <td>2</td>\n",
       "      <td>cases</td>\n",
       "    </tr>\n",
       "    <tr>\n",
       "      <th>3</th>\n",
       "      <td>2016-03-19</td>\n",
       "      <td>Argentina-Buenos_Aires</td>\n",
       "      <td>province</td>\n",
       "      <td>cumulative_probable_imported_cases</td>\n",
       "      <td>AR0004</td>\n",
       "      <td>NaN</td>\n",
       "      <td>NaN</td>\n",
       "      <td>1</td>\n",
       "      <td>cases</td>\n",
       "    </tr>\n",
       "    <tr>\n",
       "      <th>4</th>\n",
       "      <td>2016-03-19</td>\n",
       "      <td>Argentina-Buenos_Aires</td>\n",
       "      <td>province</td>\n",
       "      <td>cumulative_cases_under_study</td>\n",
       "      <td>AR0005</td>\n",
       "      <td>NaN</td>\n",
       "      <td>NaN</td>\n",
       "      <td>127</td>\n",
       "      <td>cases</td>\n",
       "    </tr>\n",
       "  </tbody>\n",
       "</table>\n",
       "</div>"
      ],
      "text/plain": [
       "  report_date                location location_type  \\\n",
       "0  2016-03-19  Argentina-Buenos_Aires      province   \n",
       "1  2016-03-19  Argentina-Buenos_Aires      province   \n",
       "2  2016-03-19  Argentina-Buenos_Aires      province   \n",
       "3  2016-03-19  Argentina-Buenos_Aires      province   \n",
       "4  2016-03-19  Argentina-Buenos_Aires      province   \n",
       "\n",
       "                            data_field data_field_code  time_period  \\\n",
       "0     cumulative_confirmed_local_cases          AR0001          NaN   \n",
       "1      cumulative_probable_local_cases          AR0002          NaN   \n",
       "2  cumulative_confirmed_imported_cases          AR0003          NaN   \n",
       "3   cumulative_probable_imported_cases          AR0004          NaN   \n",
       "4         cumulative_cases_under_study          AR0005          NaN   \n",
       "\n",
       "   time_period_type value   unit  \n",
       "0               NaN     0  cases  \n",
       "1               NaN     0  cases  \n",
       "2               NaN     2  cases  \n",
       "3               NaN     1  cases  \n",
       "4               NaN   127  cases  "
      ]
     },
     "execution_count": 23,
     "metadata": {},
     "output_type": "execute_result"
    }
   ],
   "source": [
    "df_count1.head(5)"
   ]
  },
  {
   "cell_type": "code",
   "execution_count": 24,
   "metadata": {},
   "outputs": [],
   "source": [
    "report_date_count1=df_count1['report_date'].unique()"
   ]
  },
  {
   "cell_type": "code",
   "execution_count": 25,
   "metadata": {},
   "outputs": [
    {
     "data": {
      "text/plain": [
       "array(['2016-03-19', '2016-03-26', '2016-04-02', '2016-04-09',\n",
       "       '2016-04-16', '2016-04-29', '2016-05-07', '2016-05-14',\n",
       "       '2016-05-22', '2016-05-30', '2016-06-06', '2016-06-13',\n",
       "       '2016-06-18', '2016-06-26'], dtype=object)"
      ]
     },
     "execution_count": 25,
     "metadata": {},
     "output_type": "execute_result"
    }
   ],
   "source": [
    "report_date_count1"
   ]
  },
  {
   "cell_type": "code",
   "execution_count": 27,
   "metadata": {},
   "outputs": [],
   "source": [
    "report_date_count2=df_count2['report_date'].unique()"
   ]
  },
  {
   "cell_type": "code",
   "execution_count": 28,
   "metadata": {},
   "outputs": [
    {
     "data": {
      "text/plain": [
       "array(['2016-03-19', '2016-03-26', '2016-04-02', '2016-04-09',\n",
       "       '2016-04-16', '2016-04-29', '2016-05-07', '2016-05-14',\n",
       "       '2016-05-22', '2016-05-30', '2016-06-06', '2016-06-13',\n",
       "       '2016-06-18', '2016-06-26'], dtype=object)"
      ]
     },
     "execution_count": 28,
     "metadata": {},
     "output_type": "execute_result"
    }
   ],
   "source": [
    "report_date_count2"
   ]
  },
  {
   "cell_type": "code",
   "execution_count": 30,
   "metadata": {},
   "outputs": [],
   "source": [
    "report_date_count3=df_count3['report_date'].unique()"
   ]
  },
  {
   "cell_type": "code",
   "execution_count": 31,
   "metadata": {},
   "outputs": [
    {
     "data": {
      "text/plain": [
       "array(['2016-03-19', '2016-03-26', '2016-04-02', '2016-04-09',\n",
       "       '2016-04-16', '2016-04-29', '2016-05-07', '2016-05-14',\n",
       "       '2016-05-22', '2016-05-30', '2016-06-06', '2016-06-13',\n",
       "       '2016-06-18', '2016-06-26'], dtype=object)"
      ]
     },
     "execution_count": 31,
     "metadata": {},
     "output_type": "execute_result"
    }
   ],
   "source": [
    "report_date_count3"
   ]
  },
  {
   "cell_type": "code",
   "execution_count": 44,
   "metadata": {},
   "outputs": [],
   "source": [
    "# gr=df_count1.groupby('data_field_code')\n",
    "# for code in data_field_code_country:\n",
    "#     Argentina_Buenos_Aires_value_sum=[]\n",
    "#     df_count_1=gr.get_group(code)\n",
    "#     grp=df_count_1.groupby('report_date')\n",
    "#     for day in report_date_count1:\n",
    "#         df_date=grp.get_group(day)\n",
    "#         y=df_date['value'].apply(pd.to_numeric).sum()\n",
    "#         Argentina_Buenos_Aires_value_sum.append(y)\n",
    "#         plt.plot(report_date_count1,y)"
   ]
  },
  {
   "cell_type": "code",
   "execution_count": 40,
   "metadata": {},
   "outputs": [
    {
     "data": {
      "text/plain": [
       "array(['2016-03-19', '2016-03-26', '2016-04-02', '2016-04-09',\n",
       "       '2016-04-16', '2016-04-29', '2016-05-07', '2016-05-14',\n",
       "       '2016-05-22', '2016-05-30', '2016-06-06', '2016-06-13',\n",
       "       '2016-06-18', '2016-06-26'], dtype=object)"
      ]
     },
     "execution_count": 40,
     "metadata": {},
     "output_type": "execute_result"
    }
   ],
   "source": [
    "report_date_count1"
   ]
  },
  {
   "cell_type": "code",
   "execution_count": 41,
   "metadata": {},
   "outputs": [
    {
     "data": {
      "text/plain": [
       "25"
      ]
     },
     "execution_count": 41,
     "metadata": {},
     "output_type": "execute_result"
    }
   ],
   "source": [
    "y"
   ]
  },
  {
   "cell_type": "code",
   "execution_count": null,
   "metadata": {},
   "outputs": [],
   "source": []
  }
 ],
 "metadata": {
  "kernelspec": {
   "display_name": "Python 3",
   "language": "python",
   "name": "python3"
  },
  "language_info": {
   "codemirror_mode": {
    "name": "ipython",
    "version": 3
   },
   "file_extension": ".py",
   "mimetype": "text/x-python",
   "name": "python",
   "nbconvert_exporter": "python",
   "pygments_lexer": "ipython3",
   "version": "3.7.3"
  }
 },
 "nbformat": 4,
 "nbformat_minor": 2
}
